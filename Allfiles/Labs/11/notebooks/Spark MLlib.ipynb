{
  "cells": [
    {
      "cell_type": "markdown",
      "metadata": {},
      "source": [
        "# Train a machine learning model with Spark MLlib\n",
        "\n",
        "Spark MLlib enables you to train, validate, and use machine learning models on Apache Spark.\n",
        "\n",
        "In this notebook, you'll implement a machine learning solution that predicts whether or not a flight will arrive late based on a number of factors, such as the day and time of the flight, the origin and destination airports, the carrier operating the flight, and any departure delays.\n",
        "\n",
        "> **Note**: This noteook is designed to be run in an Azure Synapse Analytics Spark pool.\n",
        "\n",
        "\n",
        "## Attach this notebook to a Spark pool\n",
        "\n",
        "To run the code in this notebook, you'll need to use a Spark pool; so at the top of this notebook, in the **Attach to** list, select your Spark pool."
      ]
    },
    {
      "cell_type": "markdown",
      "metadata": {
        "nteract": {
          "transient": {
            "deleting": false
          }
        }
      },
      "source": [
        "## Explore Data\n",
        "\n",
        "Before training a model, a data scientists generally explores the data with which the model will be trained, and prepares it by removing errors and outliers, identifying predictive features, and potentially using *feature engineering* techniques to augment the data with new derived values that will result in a more predictive model.\n",
        "\n",
        "In this example, you'll explore some historical flight data with which we'll later train a model to predict whether or not a flight will arrive late. Along the way, we'll encounter somecommon techniques used to load and explore data in Spark.\n"
      ]
    },
    {
      "cell_type": "markdown",
      "metadata": {},
      "source": [
        "### Load Data Using an Explicit Schema\n",
        "\n",
        "Let's start by loading some historical flight data into a dataframe. If the structure of the data is known ahead of time, you can explicitly specify the schema for the dataframe.\n",
        "\n",
        "Review the code in the cell below, which defines a schema for flight data before loading it from a text file. Then click the **&#9655;** button to the left of the cell to run it.\n",
        "\n",
        "> **Note**: The first time you run a cell in a notebook, the Spark pool must be started; which can take a few minutes."
      ]
    },
    {
      "cell_type": "code",
      "execution_count": null,
      "metadata": {
        "collapsed": false
      },
      "outputs": [],
      "source": [
        "from pyspark.sql.types import *\n",
        "from pyspark.sql.functions import *\n",
        "\n",
        "flightSchema = StructType([\n",
        "  StructField(\"DayofMonth\", IntegerType(), False),\n",
        "  StructField(\"DayOfWeek\", IntegerType(), False),\n",
        "  StructField(\"Carrier\", StringType(), False),\n",
        "  StructField(\"OriginAirportID\", IntegerType(), False),\n",
        "  StructField(\"DestAirportID\", IntegerType(), False),\n",
        "  StructField(\"DepDelay\", IntegerType(), False),\n",
        "  StructField(\"ArrDelay\", IntegerType(), False),\n",
        "])\n",
        "\n",
        "flights = spark.read.csv('/data/raw-flight-data.csv', schema=flightSchema, header=True)\n",
        "display(flights.limit(20))"
      ]
    },
    {
      "cell_type": "markdown",
      "metadata": {},
      "source": [
        "### Infer a Data Schema\n",
        "If the structure of the data source is unknown, you can have Spark automatically infer the schema.\n",
        "\n",
        "In this case, you will load data about airports without knowing the schema.\n",
        "\n",
        "Run the following cell to load airport data from a text file, inferring the column names and data types automatically."
      ]
    },
    {
      "cell_type": "code",
      "execution_count": null,
      "metadata": {
        "collapsed": false
      },
      "outputs": [],
      "source": [
        "airports = spark.read.csv('/data/airports.csv', header=True, inferSchema=True)\n",
        "display(airports.limit(20))"
      ]
    },
    {
      "cell_type": "markdown",
      "metadata": {},
      "source": [
        "### Use Dataframe Methods\n",
        "Spark DataFrames provide functions that you can use to extract and manipulate data. For example, you can use the **select** function to return a new dataframe containing columns selected from an existing dataframe."
      ]
    },
    {
      "cell_type": "code",
      "execution_count": null,
      "metadata": {
        "collapsed": false
      },
      "outputs": [],
      "source": [
        "cities = airports.select(\"city\", \"name\")\n",
        "display(cities.limit(20))"
      ]
    },
    {
      "cell_type": "markdown",
      "metadata": {},
      "source": [
        "### Combine Operations\n",
        "You can combine functions in a single statement to perform multiple operations on a dataframe. In this case, you will use the **join** function to combine the **flights** and **airports** dataframes, and then use the **groupBy** and **count** functions to return the number of flights from each airport, and finally use the **orderBy** function to sort the results by the number of flights."
      ]
    },
    {
      "cell_type": "code",
      "execution_count": null,
      "metadata": {
        "collapsed": false
      },
      "outputs": [],
      "source": [
        "flightsByOrigin = flights.join(airports, flights.OriginAirportID == airports.airport_id).groupBy(\"city\").count().orderBy(\"count\")\n",
        "display(flightsByOrigin.limit(30))"
      ]
    },
    {
      "cell_type": "markdown",
      "metadata": {},
      "source": [
        "### Count the Rows in a Dataframe\n",
        "Now that you're familiar with working with dataframes, a key task when building predictive solutions is to explore the data, determing statistics that will help you understand the data before building predictive models. For example, how many rows of flight data do you actually have?"
      ]
    },
    {
      "cell_type": "code",
      "execution_count": null,
      "metadata": {},
      "outputs": [],
      "source": [
        "flights.count()"
      ]
    },
    {
      "cell_type": "markdown",
      "metadata": {},
      "source": [
        "### Determine the Presence of Duplicates\n",
        "The data you have to work with won't always be perfect - often you'll want to *clean* the data; for example to detect and remove duplicates that might affect your model. You can use the **dropDuplicates** function to create a new dataframe with the duplicates removed, enabling you to determine how many rows are duplicates of other rows."
      ]
    },
    {
      "cell_type": "code",
      "execution_count": null,
      "metadata": {},
      "outputs": [],
      "source": [
        "flights.count() - flights.dropDuplicates().count()"
      ]
    },
    {
      "cell_type": "markdown",
      "metadata": {},
      "source": [
        "### Identify Missing Values\n",
        "As well as determining if duplicates exist in your data, you should detect missing values, and either remove rows containing missing data or replace the missing values with a suitable relacement. The **dropna** function creates a dataframe with any rows containing missing data removed - you can specify a subset of columns, and whether the row should be removed in *any* or *all* values are missing. You can then use this new dataframe to determine how many rows contain missing values."
      ]
    },
    {
      "cell_type": "code",
      "execution_count": null,
      "metadata": {},
      "outputs": [],
      "source": [
        "flights.count() - flights.dropDuplicates().dropna(how=\"any\", subset=[\"ArrDelay\", \"DepDelay\"]).count()"
      ]
    },
    {
      "cell_type": "markdown",
      "metadata": {},
      "source": [
        "### Clean the Data\n",
        "Now that you've identified that there are duplicates and missing values, you can clean the data by removing the duplicates and replacing the missing values. The **fillna** function replaces missing values with a specified replacement value. In this case, you'll remove all duplicate rows and replace missing **ArrDelay** and **DepDelay** values with **0**."
      ]
    },
    {
      "cell_type": "code",
      "execution_count": null,
      "metadata": {},
      "outputs": [],
      "source": [
        "data=flights.dropDuplicates().fillna(value=0, subset=[\"ArrDelay\", \"DepDelay\"])\n",
        "data.count()"
      ]
    },
    {
      "cell_type": "markdown",
      "metadata": {},
      "source": [
        "### Explore the Data\n",
        "Now that you've cleaned the data, you can start to explore it and perform some basic analysis. Let's start by examining the lateness of a flight. The dataset includes the **ArrDelay** field, which tells you how many minutes behind schedule a flight arrived. However, if a flight is only a few minutes behind schedule, you might not consider it *late*. Let's make our definition of lateness such that flights that arrive within 25 minutes of their scheduled arrival time are considered on-time, but any flights that are more than 25 minutes behind schedule are classified as *late*. We'll add a column to indicate this classification:"
      ]
    },
    {
      "cell_type": "code",
      "execution_count": null,
      "metadata": {
        "collapsed": false
      },
      "outputs": [],
      "source": [
        "data = data.select(\"DayofMonth\", \"DayOfWeek\", \"Carrier\", \"OriginAirportID\",\"DestAirportID\",\n",
        "                   \"DepDelay\", \"ArrDelay\", ((col(\"ArrDelay\") > 25).cast(\"Int\").alias(\"Late\")))\n",
        "display(data.limit(20))"
      ]
    },
    {
      "cell_type": "markdown",
      "metadata": {},
      "source": [
        "### Explore Summary Statistics and Data Distribution\n",
        "Predictive modeling is based on statistics and probability, so we should take a look at the summary statistics for the columns in our data. The **describe** function returns a dataframe containing the **count**, **mean**, **standard deviation**, **minimum**, and **maximum** values for each numeric column."
      ]
    },
    {
      "cell_type": "code",
      "execution_count": null,
      "metadata": {
        "collapsed": false
      },
      "outputs": [],
      "source": [
        "display(data.describe())"
      ]
    },
    {
      "cell_type": "markdown",
      "metadata": {},
      "source": [
        "The *DayofMonth* is a value between 1 and 31, and the mean is around halfway between these values; which seems about right. The same is true for the *DayofWeek* which is a value between 1 and 7. *Carrier* is a string, so there are no numeric statistics; and we can ignore the statistics for the airport IDs - they're just unique identifiers for the airports, not actually numeric values. The departure and arrival delays range between 63 or 94 minutes ahead of schedule, and over 1,800 minutes behind schedule. The means are much closer to zero than this, and the standard deviation is quite large; so there's quite a bit of variance in the delays. The *Late* indicator is a 1 or a 0, but the mean is very close to 0; which implies that there significantly fewer late flights than non-late flights.\n",
        "\n",
        "Let's verify that assumption by creating a table and using the **Spark SQL** API to run a SQL statement that counts the number of late and non-late flights:"
      ]
    },
    {
      "cell_type": "code",
      "execution_count": null,
      "metadata": {
        "collapsed": false
      },
      "outputs": [],
      "source": [
        "data.createOrReplaceTempView(\"flightData\")\n",
        "lateCounts = spark.sql(\"SELECT COUNT(*) AS Count, Late FROM flightData GROUP BY Late\")\n",
        "display(lateCounts)"
      ]
    },
    {
      "cell_type": "markdown",
      "metadata": {},
      "source": [
        "Yes, it looks like there are significantly more non-late flights than late ones. You can see this more clearly with a visualization, so in the output above, select the **Chart** view to see the comparative counts as a bar chart.."
      ]
    },
    {
      "cell_type": "markdown",
      "metadata": {},
      "source": [
        "Let's address the outliers and imbalanced classes in our data by removing rows with extreme delay values, and *undersampling* the more common on-time flights:"
      ]
    },
    {
      "cell_type": "code",
      "execution_count": null,
      "metadata": {
        "collapsed": false
      },
      "outputs": [],
      "source": [
        "from pyspark.sql.functions import rand\n",
        "\n",
        "# Remove outliers - let's make the cut-off 150 minutes.\n",
        "data = data.filter(\"DepDelay < 150 AND ArrDelay < 150\")\n",
        "\n",
        "# Separate the late and on-time flights\n",
        "pos = data.filter(\"Late = 1\")\n",
        "neg = data.filter(\"Late = 0\")\n",
        "\n",
        "# undersample the most prevalent class to get a roughly even distribution\n",
        "posCount = pos.count()\n",
        "negCount = neg.count()\n",
        "if posCount > negCount:\n",
        "  pos = pos.sample(True, negCount/(negCount + posCount))\n",
        "else:\n",
        "  neg = neg.sample(True, posCount/(negCount + posCount))\n",
        "  \n",
        "# shuffle into random order (so a sample of the first 1000 has a mix of classes)\n",
        "data = neg.union(pos).orderBy(rand())\n",
        "\n",
        "# Replace the temporary table so we can query and visualize the balanced dataset\n",
        "data.createOrReplaceTempView(\"flightData\")\n",
        "\n",
        "# Show the statistics\n",
        "display(data.describe())"
      ]
    },
    {
      "cell_type": "markdown",
      "metadata": {},
      "source": [
        "Now the maximums for the **DepDelay** and **ArrDelay** are clipped at under 150, and the mean value for the binary *Late* class is nearer 0.5; indicating a more or less even number of each class. We removed some data to accomplish this balancing act, but there are still a substantial number of rows for us to train a machine learning model with, and now the data is more balanced. Let's visualize the data again to confirm this:"
      ]
    },
    {
      "cell_type": "code",
      "execution_count": null,
      "metadata": {
        "collapsed": false,
        "microsoft": {
          "language": "sparksql"
        }
      },
      "outputs": [],
      "source": [
        "%%sql\n",
        "SELECT Late, COUNT(*) AS Count FROM flightData GROUP BY Late"
      ]
    },
    {
      "cell_type": "markdown",
      "metadata": {},
      "source": [
        "Display the data as a chart to compare the distribution of the **Late** classes as you did previously. There should now be a more even number of each class."
      ]
    },
    {
      "cell_type": "markdown",
      "metadata": {
        "nteract": {
          "transient": {
            "deleting": false
          }
        }
      },
      "source": [
        "### Explore Relationships in the Data\n",
        "Predictive modeling is largely based on statistical relationships between fields in the data. To design a good model, you need to understand how the data points relate to one another.\n",
        "\n",
        "A common way to start exploring relationships is to create visualizations that compare two or more data values. For example, run the following query to compare arrival delay by carrier.\n"
      ]
    },
    {
      "cell_type": "code",
      "execution_count": null,
      "metadata": {
        "collapsed": false,
        "jupyter": {
          "outputs_hidden": false,
          "source_hidden": false
        },
        "microsoft": {
          "language": "sparksql"
        },
        "nteract": {
          "transient": {
            "deleting": false
          }
        }
      },
      "outputs": [],
      "source": [
        "%%sql\n",
        "SELECT Carrier, ArrDelay FROM flightData"
      ]
    },
    {
      "cell_type": "markdown",
      "metadata": {
        "nteract": {
          "transient": {
            "deleting": false
          }
        }
      },
      "source": [
        "View the output as a chart, and then use the **View Options** button (which looks similar to **&#128463;<sub>*</sub>**) at the top-right of the output to configure the chart as follows:\n",
        "\n",
        "- **Chart type**: Box plot\n",
        "- **Key**: Carrier\n",
        "- **Values**: ArrDelay\n",
        "\n",
        "When you apply the view options, the box plots should should show that the median delay (the line in the middle of the box), and the distribution of delays varies by carrier; with some carriers having a higher median delay than others. The same is true for other features, such as the day of the week and the destination airport."
      ]
    },
    {
      "cell_type": "markdown",
      "metadata": {},
      "source": [
        "\n",
        "\n",
        "You may already suspect that there's likely to be a relationship between departure delay and arrival delay, so let's examine that next. Run the next cell to retrieve the departure and arrival delays for each flight."
      ]
    },
    {
      "cell_type": "code",
      "execution_count": null,
      "metadata": {
        "collapsed": false,
        "jupyter": {
          "outputs_hidden": false,
          "source_hidden": false
        },
        "microsoft": {
          "language": "sparksql"
        },
        "nteract": {
          "transient": {
            "deleting": false
          }
        }
      },
      "outputs": [],
      "source": [
        "%%sql\n",
        "SELECT DepDelay, ArrDelay FROM flightData"
      ]
    },
    {
      "cell_type": "markdown",
      "metadata": {
        "nteract": {
          "transient": {
            "deleting": false
          }
        }
      },
      "source": [
        "View the utput as a chart, and set the view options as follows:\n",
        "\n",
        "- **Chart type**: Scatter chart\n",
        "- **Key**: DepDelay\n",
        "- **Values**: ArrDelay\n",
        "- **Series Group**: *blank*\n",
        "- **Aggregation**: Avg\n",
        "\n",
        "The scatter plot shows the average arrival deplay for each recorded departure delay. Note that the points form a diagonal line, which indicates a strong linear relationship between departure delay and arrival delay.\n",
        "\n",
        "This linear relationship shows a *correlation* between these two values, which we can measure statistically. The **corr** function calculates a correlation value between -1 and 1, indicating the strength of correlation between two fields. A strong positive correlation (near 1) indicates that high values for one column are often found with high values for the other, which a strong negative correlation (near -1) indicates that *low* values for one column are often found with *high* values for the other. A correlation near 0 indicates little apparent relationship between the fields.\n",
        "\n",
        "Run the following cell to see the correlation statistic for these two variables."
      ]
    },
    {
      "cell_type": "code",
      "execution_count": null,
      "metadata": {},
      "outputs": [],
      "source": [
        "data.corr(\"DepDelay\", \"ArrDelay\")"
      ]
    },
    {
      "cell_type": "markdown",
      "metadata": {},
      "source": [
        "The correlation is close to 1, indicating a reasonably strong positive correlation between departure delay and arrval delay. Flights that depart late, unsurprisingly, often arrive late!"
      ]
    },
    {
      "cell_type": "markdown",
      "metadata": {
        "nteract": {
          "transient": {
            "deleting": false
          }
        }
      },
      "source": [
        "## Train a machine learning model\n",
        "\n",
        "In a real scenario, a data scientist would explore the statistical distributions and relationships in the data in more depth, and perform *feature engineering* to prepare the dataset for training a machine learning model. In this exercise, we've provided a prepared version of the data for you. Use the following code to load it into a dataframe."
      ]
    },
    {
      "cell_type": "code",
      "execution_count": null,
      "metadata": {
        "collapsed": false,
        "jupyter": {
          "outputs_hidden": false,
          "source_hidden": false
        },
        "nteract": {
          "transient": {
            "deleting": false
          }
        }
      },
      "outputs": [],
      "source": [
        "flightSchema = StructType([\n",
        "  StructField(\"DayofMonth\", IntegerType(), False),\n",
        "  StructField(\"DayOfWeek\", IntegerType(), False),\n",
        "  StructField(\"Carrier\", StringType(), False),\n",
        "  StructField(\"OriginAirportID\", IntegerType(), False),\n",
        "  StructField(\"DestAirportID\", IntegerType(), False),\n",
        "  StructField(\"DepDelay\", IntegerType(), False),\n",
        "  StructField(\"ArrDelay\", IntegerType(), False),\n",
        "  StructField(\"Late\", IntegerType(), False),\n",
        "])\n",
        "\n",
        "data = spark.read.csv('/data/flights.csv', schema=flightSchema, header=True)\n",
        "display(data.limit(20))"
      ]
    },
    {
      "cell_type": "markdown",
      "metadata": {
        "nteract": {
          "transient": {
            "deleting": false
          }
        }
      },
      "source": [
        "### Split the training data\n",
        "\n",
        "It is common practice when building supervised machine learning models to split the source data, using some of it to train the model and reserving some to test the trained model. In this exercise, you will use 70% of the data for training, and reserve 30% for testing."
      ]
    },
    {
      "cell_type": "code",
      "execution_count": null,
      "metadata": {
        "jupyter": {
          "outputs_hidden": false,
          "source_hidden": false
        },
        "nteract": {
          "transient": {
            "deleting": false
          }
        }
      },
      "outputs": [],
      "source": [
        "splits = data.randomSplit([0.7, 0.3])\n",
        "train = splits[0]\n",
        "test = splits[1]\n",
        "train_rows = train.count()\n",
        "test_rows = test.count()\n",
        "print (\"Training Rows:\", train_rows, \" Testing Rows:\", test_rows)"
      ]
    },
    {
      "cell_type": "markdown",
      "metadata": {
        "nteract": {
          "transient": {
            "deleting": false
          }
        }
      },
      "source": [
        "### Define a model training pipeline\n",
        "\n",
        "A machine learning model is created by fitiing the training data to an algorithm that uses the input *features* to calculate a probably value for a predicted *label*. There are lots of available algorithms for specific kinds of machine learning model. or example, *classification* algorithms like *logistic regression* use features as inputs to calculate a probably *class* (or categorization); while *regression* algorithms, like *linear regression*, can be used to predict a numeric value. In this case, we're trying to predict whether a flight is going to be late or not, so this is an example of a *classification* problem. Specifically, since it requires a prediction based on two possible classes (essentially, *true* or *false*), it's an example of *binary classification*.\n",
        "\n",
        "However, while you can train a model by fitting your raw data to an algorithm, a good model often requires multiple stages of feature preparation. For example, it is common when using some algorithms to distingish between continuous features (which have a calculable numeric value) and categorical features (which are numeric representations of discrete categories). It is also common to *normalize* continuous numeric features to use a common scale - for example, by scaling all numbers to a proportional decimal value between 0 and 1 (strictly speaking, it only really makes sense to do this when you have multiple numeric columns - normalizing them all to similar scales prevents a feature with particularly large values from dominating the training of the model - in this case, we only have one non-categorical numeric feature; but we've included this so you can see how it's done!).\n",
        "\n",
        "A pipeline consists of a series of *transformer* and *estimator* components that typically prepare a dataframe for\n",
        "modeling and then train a predictive model. In this case, you will create a pipeline with the following components:\n",
        "- A **StringIndexer** estimator for each categorical variable to generate numeric indexes for categorical features\n",
        "- A **VectorAssembler** that creates a vector of continuous numeric features\n",
        "- A **MinMaxScaler** that normalizes vector of numeric features\n",
        "- A **VectorAssembler** that creates a vector of categorical and continuous features\n",
        "- A **LogisticRegression** algorithm that trains a classification model.\n"
      ]
    },
    {
      "cell_type": "code",
      "execution_count": null,
      "metadata": {
        "jupyter": {
          "outputs_hidden": false,
          "source_hidden": false
        },
        "nteract": {
          "transient": {
            "deleting": false
          }
        }
      },
      "outputs": [],
      "source": [
        "from pyspark.sql.types import *\n",
        "from pyspark.sql.functions import *\n",
        "from pyspark.ml import Pipeline\n",
        "from pyspark.ml.classification import LogisticRegression\n",
        "from pyspark.ml.feature import VectorAssembler, StringIndexer, MinMaxScaler\n",
        "\n",
        "# convert monthdays to indexed categories\n",
        "monthdayIndexer = StringIndexer(inputCol=\"DayofMonth\", outputCol=\"DayofMonthIdx\")\n",
        "# convert weekdays to indexed categories\n",
        "weekdayIndexer = StringIndexer(inputCol=\"DayOfWeek\", outputCol=\"DayOfWeekIdx\")\n",
        "# convert carriers to indexed categories\n",
        "carrierIndexer = StringIndexer(inputCol=\"Carrier\", outputCol=\"CarrierIdx\")\n",
        "# convert origins to indexed categories\n",
        "originIndexer = StringIndexer(inputCol=\"OriginAirportID\", outputCol=\"OriginAirportIdx\")\n",
        "# convert destinations to indexed categories\n",
        "destIndexer = StringIndexer(inputCol=\"DestAirportID\", outputCol=\"DestAirportIdx\")\n",
        "# Create a vector of all numeric variables (in this case, departure delay)\n",
        "numVect = VectorAssembler(inputCols = [\"DepDelay\"], outputCol=\"numFeatures\")\n",
        "# Normalize numerica variables\n",
        "minMax = MinMaxScaler(inputCol = numVect.getOutputCol(), outputCol=\"normNums\")\n",
        "#Create a single vector containing all feaures\n",
        "featVect = VectorAssembler(inputCols=[\"DayofMonthIdx\", \"DayOfWeekIdx\", \"CarrierIdx\", \"OriginAirportIdx\", \"DestAirportIdx\", \"normNums\"], outputCol=\"features\")\n",
        "# Use a logistic regression algorithm to predict the \"Late\" label from the vector of features\n",
        "lr = LogisticRegression(labelCol=\"Late\", featuresCol=\"features\")\n",
        "# Define a pipeline with all these steps in the right order\n",
        "pipeline = Pipeline(stages=[monthdayIndexer, weekdayIndexer, carrierIndexer, originIndexer, destIndexer, numVect, minMax, featVect, lr])\n",
        "print (\"Pipeline defined:\")\n",
        "print (pipeline.getStages())\n"
      ]
    },
    {
      "cell_type": "markdown",
      "metadata": {
        "nteract": {
          "transient": {
            "deleting": false
          }
        }
      },
      "source": [
        "### Train the model\n",
        "\n",
        "The pipeline itself is an estimator, and so it has a **fit** method that you can call to run the pipeline on a specified dataframe. In this case, you will run the pipeline on the training data to train a model."
      ]
    },
    {
      "cell_type": "code",
      "execution_count": null,
      "metadata": {
        "jupyter": {
          "outputs_hidden": false,
          "source_hidden": false
        },
        "nteract": {
          "transient": {
            "deleting": false
          }
        }
      },
      "outputs": [],
      "source": [
        "model = pipeline.fit(train)\n",
        "print (\"Model trained!\")"
      ]
    },
    {
      "cell_type": "markdown",
      "metadata": {
        "nteract": {
          "transient": {
            "deleting": false
          }
        }
      },
      "source": [
        "### Test the Model\n",
        "\n",
        "Now you're ready to use the **transform** method of the model to generate some predictions. You can use this approach to predict delay status for flights where the label is unknown; but in this case you are using the test data which includes a known true label value, so you can compare the predicted status to the actual status."
      ]
    },
    {
      "cell_type": "code",
      "execution_count": null,
      "metadata": {
        "collapsed": false,
        "jupyter": {
          "outputs_hidden": false,
          "source_hidden": false
        },
        "nteract": {
          "transient": {
            "deleting": false
          }
        }
      },
      "outputs": [],
      "source": [
        "prediction = model.transform(test)\n",
        "predicted = prediction.select(\"features\", \"probability\", col(\"prediction\").cast(\"Int\"), col(\"Late\").alias(\"trueLabel\"))\n",
        "display(predicted.limit(100))"
      ]
    },
    {
      "cell_type": "markdown",
      "metadata": {
        "nteract": {
          "transient": {
            "deleting": false
          }
        }
      },
      "source": [
        "Looking at the result, the **prediction** column contains the predicted value for the label, and the **trueLabel** column contains the actual known value from the testing data.\n",
        "\n",
        "Note that the **features** and **probability** columns are vectors. You can expand them to see the individual values they contain. The **features** vector contains the input variables for the model's algorithm.\n",
        "\n",
        "The **probability** vector contains the probability that the algorithm calculated for each possible class: 0 and 1 (which correspond to *not-late* and *late*). It looks like there are a mix of correct and incorrect predictions, and the ones that are incorrect tend to have fairly close probabilities for each class.\n"
      ]
    },
    {
      "cell_type": "markdown",
      "metadata": {
        "nteract": {
          "transient": {
            "deleting": false
          }
        }
      },
      "source": [
        "### Compute confusion matrix metrics\n",
        "\n",
        "While we could explore the set of prediced and actual label values, and calculate accuracy by comparing how many predictions were correct compared to how many were wrong; which would be a tedious way to evaluate the mode. Additionally, a simple accuracy measure calculated this way may not be as useful an indication of model performance as you moight think. Consider that most flights, let's say 90%, arrive on-time. You could train a model that always predicts ***0***, and it would have an accuracy of 90% - it just wouln't be very helpful to predict which flights are likely to be a late!\n",
        "\n",
        "For these reasons, the predictive performamce of a binary classifier such as ours is usually measured using some standard metrics based on the *confusion matrix* formed by the number of cases in each of the following four categories:\n",
        "\n",
        "* *True Positives*: The predicted label and the actual label are both 1.\n",
        "* *False Positives*: The predicted label is 1, but the actual label is 0.\n",
        "* *False Negatives*: The predicted label is 0, but the actual label is 1.\n",
        "* *True Negatives*: The predicted label and the actual label are both 0.\n",
        "\n",
        "These metrics are generally tabulated for the test set and shown together as a *confusion matrix*, which takes the following form:\n",
        "\n",
        "<table style=\"border: 1px solid black;\">\n",
        "    <tr style=\"border: 1px solid black;\">\n",
        "        <td style=\"border: 1px solid black;color: black;\" bgcolor=\"lightgray\">TN</td><td style=\"border: 1px solid black;color: black;\" bgcolor=\"white\">FP</td>\n",
        "    </tr>\n",
        "    <tr style=\"border: 1px solid black;\">\n",
        "        <td style=\"border: 1px solid black;color: black;\" bgcolor=\"white\">FN</td><td style=\"border: 1px solid black;color: black;\" bgcolor=\"lightgray\">TP</td>\n",
        "    </tr>\n",
        "</table>\n",
        "\n",
        "From these metrics, some further evaluation measurements can be derived for each class:\n",
        "\n",
        "* *Precision*: Of the predictons the model made for this class, what proportion were correct?\n",
        "* *Recall*: Out of all of the instances of this class in the test dataset, how many did the model identify?\n",
        "* *F1-Score*: An average metric that takes both precision and recall for the given class into account.\n",
        "\n",
        "You can then average these metrics out across all possible classes to determine overall metrics."
      ]
    },
    {
      "cell_type": "code",
      "execution_count": null,
      "metadata": {
        "jupyter": {
          "outputs_hidden": false,
          "source_hidden": false
        },
        "nteract": {
          "transient": {
            "deleting": false
          }
        }
      },
      "outputs": [],
      "source": [
        "from pyspark.mllib.evaluation import MulticlassMetrics\n",
        "\n",
        "label_and_prediction = prediction.select([col('Late').cast(\"Double\").alias(\"label\"), col('prediction').cast(\"Double\")]) \\\n",
        "                            .rdd.map(lambda line: (line[1], line[0]))\n",
        "metrics = MulticlassMetrics(label_and_prediction)\n",
        "\n",
        "# Confusion Matrix\n",
        "cm = metrics.confusionMatrix().toArray()\n",
        "print(\"\\nConfusion Matrix:\")\n",
        "print(cm)\n",
        "print (\"\\nMetrics for class 0:\")\n",
        "print(\"Precision: %s\" % metrics.precision(0))\n",
        "print(\"Recall: %s\" % metrics.recall(0))\n",
        "print(\"F1: %s\" % metrics.fMeasure(0.0))\n",
        "print (\"\\nMetrics for class 1:\")\n",
        "print(\"Precision: %s\" % metrics.precision(1))\n",
        "print(\"Recall: %s\" % metrics.recall(1))\n",
        "print(\"F1: %s\" % metrics.fMeasure(1.0))\n",
        "print (\"\\nOverall metrics:\")\n",
        "print(\"Overall precision: %s\" % metrics.weightedPrecision)\n",
        "print(\"Overall recall: %s\" % metrics.weightedRecall)\n",
        "print(\"Overall F1: %s\" % metrics.weightedFMeasure())"
      ]
    },
    {
      "cell_type": "markdown",
      "metadata": {
        "nteract": {
          "transient": {
            "deleting": false
          }
        }
      },
      "source": [
        "The precision, recall, and F1 metrics are calculated as values between 0 and 1. The closer to 1 they are, the better the model is performing.\n",
        "\n",
        "Note also that the confusion matrix shows the intersections between counts of predicted and actual values. This means that a model that is predicting well will have a diagonal trend of higher values for the intersection of cases where the *actual* and *predicted* values are the same. This can often be easier to visualize as a heat map:"
      ]
    },
    {
      "cell_type": "code",
      "execution_count": null,
      "metadata": {
        "jupyter": {
          "outputs_hidden": false,
          "source_hidden": false
        },
        "nteract": {
          "transient": {
            "deleting": false
          }
        }
      },
      "outputs": [],
      "source": [
        "import numpy as np\n",
        "import matplotlib.pyplot as plt\n",
        "\n",
        "classes = ['0 (on-time)', '1 (late)']\n",
        "plt.imshow(cm, interpolation=\"nearest\", cmap=plt.cm.Blues)\n",
        "plt.colorbar()\n",
        "tick_marks = np.arange(len(classes))\n",
        "plt.xticks(tick_marks, classes, rotation=45)\n",
        "plt.yticks(tick_marks, classes)\n",
        "plt.xlabel(\"Predicted Class\")\n",
        "plt.ylabel(\"Actual Class\")\n",
        "plt.show()"
      ]
    },
    {
      "cell_type": "markdown",
      "metadata": {
        "nteract": {
          "transient": {
            "deleting": false
          }
        }
      },
      "source": [
        "### View the raw prediction and probability\n",
        "\n",
        "The prediction is based on a raw prediction score that describes a labelled point in a logistic function. This raw prediction is then converted to a predicted label of 0 or 1 based on a probability vector that indicates the confidence for each possible label value (in this case, 0 and 1). The value with the highest confidence is selected as the prediction."
      ]
    },
    {
      "cell_type": "code",
      "execution_count": null,
      "metadata": {
        "collapsed": false,
        "jupyter": {
          "outputs_hidden": false,
          "source_hidden": false
        },
        "nteract": {
          "transient": {
            "deleting": false
          }
        }
      },
      "outputs": [],
      "source": [
        "raw_predictions = prediction.select(\"rawPrediction\", \"probability\", col(\"prediction\").cast(\"int\"), col(\"Late\").alias(\"trueLabel\"))\n",
        "display(raw_predictions.limit(20))"
      ]
    },
    {
      "cell_type": "markdown",
      "metadata": {
        "nteract": {
          "transient": {
            "deleting": false
          }
        }
      },
      "source": [
        "Note that the results include rows where the probability for 0 (the first value in the **probability** vector) is only slightly higher than the probability for 1 (the second value in the **probability** vector). The default *discrimination threshold* (the boundary that decides whether a probability is predicted as a 1 or a 0) is set to 0.5; so the prediction with the highest probability is always used, no matter how close to the threshold.\n",
        "\n",
        "### Review the Area Under ROC\n",
        "\n",
        "Moving the probability threshold above which the model predicts ***1*** would alter the number of true positives and false positives in the confusion matrix. A threshold of zero would predict every case as 1 (positive), while a threshold of 1 would predict every case as 0 (negative). The rate of true-postive and false-postive predictions between these thresholds is a good way to measure the predictive accuracy of a model. An ideal model will show a plotted line that rises vertically up the *true-positive rate* axis and stays at the maximum value (1) across the *false-positive rate*. The *area under the curve* (AUC) can then be calculated as a value between 0 and 1, with a value of 1 indicating a perfect model. In the case of a binary classification model, you can compare this AUC value with 0.5; which would represent the expected prediction rate for a random guess, and which can be plotted as a diagonal line through the ROC curve.\n",
        "\n",
        "It's generally easier to understand the AUC metric visually by plotting the ROC curve:"
      ]
    },
    {
      "cell_type": "code",
      "execution_count": null,
      "metadata": {
        "jupyter": {
          "outputs_hidden": false,
          "source_hidden": false
        },
        "nteract": {
          "transient": {
            "deleting": false
          }
        }
      },
      "outputs": [],
      "source": [
        "import matplotlib.pyplot as plt\n",
        "from pyspark.ml.evaluation import BinaryClassificationEvaluator\n",
        "\n",
        "# Plot the ROC curve\n",
        "modelSummary = model.stages[-1].summary\n",
        "plt.plot([0, 1], [0, 1], 'r--')\n",
        "plt.plot(modelSummary.roc.select('FPR').collect(),\n",
        "         modelSummary.roc.select('TPR').collect())\n",
        "plt.xlabel('False Positive Rate')\n",
        "plt.ylabel('True Positive Rate')\n",
        "plt.show()\n",
        "\n",
        "# Get the AUC\n",
        "evaluator = BinaryClassificationEvaluator(labelCol=\"Late\", rawPredictionCol=\"rawPrediction\", metricName=\"areaUnderROC\")\n",
        "auc = evaluator.evaluate(prediction)\n",
        "print (\"AUC = \", auc)"
      ]
    },
    {
      "cell_type": "markdown",
      "metadata": {
        "nteract": {
          "transient": {
            "deleting": false
          }
        }
      },
      "source": [
        "## Save and use a model for inferencing\n",
        "\n",
        "When you're happy with the performance of your model, you can save it. Then, when you need to use it for *inferencing* (predicting) labels for new data, you can load it and transform the new data with it."
      ]
    },
    {
      "cell_type": "code",
      "execution_count": null,
      "metadata": {
        "collapsed": false,
        "jupyter": {
          "outputs_hidden": false,
          "source_hidden": false
        },
        "nteract": {
          "transient": {
            "deleting": false
          }
        }
      },
      "outputs": [],
      "source": [
        "from pyspark.ml import PipelineModel\n",
        "\n",
        "# Save the model\n",
        "saved_model_path = '/models/flights.model'\n",
        "model.write().overwrite().save(saved_model_path)\n",
        "\n",
        "# Load new data for flights in-progress (for which we have no Late\" label)\n",
        "flightSchema = StructType([\n",
        "  StructField(\"DayofMonth\", IntegerType(), False),\n",
        "  StructField(\"DayOfWeek\", IntegerType(), False),\n",
        "  StructField(\"Carrier\", StringType(), False),\n",
        "  StructField(\"OriginAirportID\", IntegerType(), False),\n",
        "  StructField(\"DestAirportID\", IntegerType(), False),\n",
        "  StructField(\"DepDelay\", IntegerType(), False)\n",
        "])\n",
        "\n",
        "new_data = spark.read.csv('/data/new-flights.csv', schema=flightSchema, header=True)\n",
        "\n",
        "# Load the model\n",
        "loaded_model = PipelineModel.load(saved_model_path)\n",
        "\n",
        "# Predict labels for the new data\n",
        "inferences = loaded_model.transform(new_data)\n",
        "\n",
        "display(inferences)\n"
      ]
    },
    {
      "cell_type": "markdown",
      "metadata": {
        "nteract": {
          "transient": {
            "deleting": false
          }
        }
      },
      "source": [
        "In this notebook, you've explored how to use Spark MLlib to train and use a machine learning model.\n",
        "\n",
        "We've only scratched the surface of machine learning with MLlib. To learn more, see the [Spark MLlib documentation](https://spark.apache.org/docs/latest/ml-guide.html)."
      ]
    }
  ],
  "metadata": {
    "description": null,
    "kernel_info": {
      "name": "synapse_pyspark"
    },
    "kernelspec": {
      "display_name": "Python 3.7.1 64-bit ('PYTHON_SERVER')",
      "language": "python",
      "name": "python3"
    },
    "language_info": {
      "name": "python",
      "version": "3.7.1"
    },
    "save_output": true,
    "synapse_widget": {
      "state": {},
      "version": "0.1"
    },
    "vscode": {
      "interpreter": {
        "hash": "7dd15e51a4470d085f7a243fb04650bc4fe166c7b9d4ae5b8d1a77af89f8b74e"
      }
    }
  },
  "nbformat": 4,
  "nbformat_minor": 2
}
